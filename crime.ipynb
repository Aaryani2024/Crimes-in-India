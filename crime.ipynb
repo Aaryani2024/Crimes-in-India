{
 "cells": [
  {
   "cell_type": "code",
   "execution_count": 1,
   "metadata": {},
   "outputs": [],
   "source": [
    "import numpy as np\n",
    "import pandas as pd\n",
    "import matplotlib.pyplot as mlt\n",
    "import seaborn as sns\n",
    "import warnings\n",
    "warnings.filterwarnings(\"ignore\")"
   ]
  },
  {
   "cell_type": "code",
   "execution_count": 3,
   "metadata": {},
   "outputs": [
    {
     "data": {
      "text/html": [
       "<div>\n",
       "<style scoped>\n",
       "    .dataframe tbody tr th:only-of-type {\n",
       "        vertical-align: middle;\n",
       "    }\n",
       "\n",
       "    .dataframe tbody tr th {\n",
       "        vertical-align: top;\n",
       "    }\n",
       "\n",
       "    .dataframe thead th {\n",
       "        text-align: right;\n",
       "    }\n",
       "</style>\n",
       "<table border=\"1\" class=\"dataframe\">\n",
       "  <thead>\n",
       "    <tr style=\"text-align: right;\">\n",
       "      <th></th>\n",
       "      <th>Report Number</th>\n",
       "      <th>Date Reported</th>\n",
       "      <th>Date of Occurrence</th>\n",
       "      <th>Time of Occurrence</th>\n",
       "      <th>City</th>\n",
       "      <th>Crime Code</th>\n",
       "      <th>Crime Description</th>\n",
       "      <th>Victim Age</th>\n",
       "      <th>Victim Gender</th>\n",
       "      <th>Weapon Used</th>\n",
       "      <th>Crime Domain</th>\n",
       "      <th>Police Deployed</th>\n",
       "      <th>Case Closed</th>\n",
       "      <th>Date Case Closed</th>\n",
       "    </tr>\n",
       "  </thead>\n",
       "  <tbody>\n",
       "    <tr>\n",
       "      <th>0</th>\n",
       "      <td>1</td>\n",
       "      <td>02-01-2020 00:00</td>\n",
       "      <td>01-01-2020 00:00</td>\n",
       "      <td>01-01-2020 01:11</td>\n",
       "      <td>Ahmedabad</td>\n",
       "      <td>576</td>\n",
       "      <td>IDENTITY THEFT</td>\n",
       "      <td>16</td>\n",
       "      <td>M</td>\n",
       "      <td>Blunt Object</td>\n",
       "      <td>Violent Crime</td>\n",
       "      <td>13</td>\n",
       "      <td>No</td>\n",
       "      <td>NaN</td>\n",
       "    </tr>\n",
       "    <tr>\n",
       "      <th>1</th>\n",
       "      <td>2</td>\n",
       "      <td>01-01-2020 19:00</td>\n",
       "      <td>01-01-2020 01:00</td>\n",
       "      <td>01-01-2020 06:26</td>\n",
       "      <td>Chennai</td>\n",
       "      <td>128</td>\n",
       "      <td>HOMICIDE</td>\n",
       "      <td>37</td>\n",
       "      <td>M</td>\n",
       "      <td>Poison</td>\n",
       "      <td>Other Crime</td>\n",
       "      <td>9</td>\n",
       "      <td>No</td>\n",
       "      <td>NaN</td>\n",
       "    </tr>\n",
       "    <tr>\n",
       "      <th>2</th>\n",
       "      <td>3</td>\n",
       "      <td>02-01-2020 05:00</td>\n",
       "      <td>01-01-2020 02:00</td>\n",
       "      <td>01-01-2020 14:30</td>\n",
       "      <td>Ludhiana</td>\n",
       "      <td>271</td>\n",
       "      <td>KIDNAPPING</td>\n",
       "      <td>48</td>\n",
       "      <td>F</td>\n",
       "      <td>Blunt Object</td>\n",
       "      <td>Other Crime</td>\n",
       "      <td>15</td>\n",
       "      <td>No</td>\n",
       "      <td>NaN</td>\n",
       "    </tr>\n",
       "    <tr>\n",
       "      <th>3</th>\n",
       "      <td>4</td>\n",
       "      <td>01-01-2020 05:00</td>\n",
       "      <td>01-01-2020 03:00</td>\n",
       "      <td>01-01-2020 14:46</td>\n",
       "      <td>Pune</td>\n",
       "      <td>170</td>\n",
       "      <td>BURGLARY</td>\n",
       "      <td>49</td>\n",
       "      <td>F</td>\n",
       "      <td>Firearm</td>\n",
       "      <td>Other Crime</td>\n",
       "      <td>1</td>\n",
       "      <td>Yes</td>\n",
       "      <td>29-04-2020 05:00</td>\n",
       "    </tr>\n",
       "    <tr>\n",
       "      <th>4</th>\n",
       "      <td>5</td>\n",
       "      <td>01-01-2020 21:00</td>\n",
       "      <td>01-01-2020 04:00</td>\n",
       "      <td>01-01-2020 16:51</td>\n",
       "      <td>Pune</td>\n",
       "      <td>421</td>\n",
       "      <td>VANDALISM</td>\n",
       "      <td>30</td>\n",
       "      <td>F</td>\n",
       "      <td>Other</td>\n",
       "      <td>Other Crime</td>\n",
       "      <td>18</td>\n",
       "      <td>Yes</td>\n",
       "      <td>08-01-2020 21:00</td>\n",
       "    </tr>\n",
       "  </tbody>\n",
       "</table>\n",
       "</div>"
      ],
      "text/plain": [
       "   Report Number     Date Reported Date of Occurrence Time of Occurrence  \\\n",
       "0              1  02-01-2020 00:00   01-01-2020 00:00   01-01-2020 01:11   \n",
       "1              2  01-01-2020 19:00   01-01-2020 01:00   01-01-2020 06:26   \n",
       "2              3  02-01-2020 05:00   01-01-2020 02:00   01-01-2020 14:30   \n",
       "3              4  01-01-2020 05:00   01-01-2020 03:00   01-01-2020 14:46   \n",
       "4              5  01-01-2020 21:00   01-01-2020 04:00   01-01-2020 16:51   \n",
       "\n",
       "        City  Crime Code Crime Description  Victim Age Victim Gender  \\\n",
       "0  Ahmedabad         576    IDENTITY THEFT          16             M   \n",
       "1    Chennai         128          HOMICIDE          37             M   \n",
       "2   Ludhiana         271        KIDNAPPING          48             F   \n",
       "3       Pune         170          BURGLARY          49             F   \n",
       "4       Pune         421         VANDALISM          30             F   \n",
       "\n",
       "    Weapon Used   Crime Domain  Police Deployed Case Closed  Date Case Closed  \n",
       "0  Blunt Object  Violent Crime               13          No               NaN  \n",
       "1        Poison    Other Crime                9          No               NaN  \n",
       "2  Blunt Object    Other Crime               15          No               NaN  \n",
       "3       Firearm    Other Crime                1         Yes  29-04-2020 05:00  \n",
       "4         Other    Other Crime               18         Yes  08-01-2020 21:00  "
      ]
     },
     "execution_count": 3,
     "metadata": {},
     "output_type": "execute_result"
    }
   ],
   "source": [
    "df=pd.read_csv(r\"C:\\Users\\Dell\\Documents\\GitHub\\Crimes-in-India\\Data\\crime_dataset_india.csv\")\n",
    "df.head()"
   ]
  },
  {
   "cell_type": "code",
   "execution_count": 5,
   "metadata": {},
   "outputs": [
    {
     "name": "stdout",
     "output_type": "stream",
     "text": [
      "<class 'pandas.core.frame.DataFrame'>\n",
      "RangeIndex: 40160 entries, 0 to 40159\n",
      "Data columns (total 14 columns):\n",
      " #   Column              Non-Null Count  Dtype \n",
      "---  ------              --------------  ----- \n",
      " 0   Report Number       40160 non-null  int64 \n",
      " 1   Date Reported       40160 non-null  object\n",
      " 2   Date of Occurrence  40160 non-null  object\n",
      " 3   Time of Occurrence  40160 non-null  object\n",
      " 4   City                40160 non-null  object\n",
      " 5   Crime Code          40160 non-null  int64 \n",
      " 6   Crime Description   40160 non-null  object\n",
      " 7   Victim Age          40160 non-null  int64 \n",
      " 8   Victim Gender       40160 non-null  object\n",
      " 9   Weapon Used         34370 non-null  object\n",
      " 10  Crime Domain        40160 non-null  object\n",
      " 11  Police Deployed     40160 non-null  int64 \n",
      " 12  Case Closed         40160 non-null  object\n",
      " 13  Date Case Closed    20062 non-null  object\n",
      "dtypes: int64(4), object(10)\n",
      "memory usage: 4.3+ MB\n"
     ]
    }
   ],
   "source": [
    "df.info()"
   ]
  },
  {
   "cell_type": "code",
   "execution_count": 6,
   "metadata": {},
   "outputs": [
    {
     "data": {
      "text/html": [
       "<div>\n",
       "<style scoped>\n",
       "    .dataframe tbody tr th:only-of-type {\n",
       "        vertical-align: middle;\n",
       "    }\n",
       "\n",
       "    .dataframe tbody tr th {\n",
       "        vertical-align: top;\n",
       "    }\n",
       "\n",
       "    .dataframe thead th {\n",
       "        text-align: right;\n",
       "    }\n",
       "</style>\n",
       "<table border=\"1\" class=\"dataframe\">\n",
       "  <thead>\n",
       "    <tr style=\"text-align: right;\">\n",
       "      <th></th>\n",
       "      <th>Report Number</th>\n",
       "      <th>Date Reported</th>\n",
       "      <th>Date of Occurrence</th>\n",
       "      <th>Time of Occurrence</th>\n",
       "      <th>City</th>\n",
       "      <th>Crime Code</th>\n",
       "      <th>Crime Description</th>\n",
       "      <th>Victim Age</th>\n",
       "      <th>Victim Gender</th>\n",
       "      <th>Weapon Used</th>\n",
       "      <th>Crime Domain</th>\n",
       "      <th>Police Deployed</th>\n",
       "      <th>Case Closed</th>\n",
       "      <th>Date Case Closed</th>\n",
       "    </tr>\n",
       "  </thead>\n",
       "  <tbody>\n",
       "    <tr>\n",
       "      <th>40155</th>\n",
       "      <td>40156</td>\n",
       "      <td>01-08-2024 16:00</td>\n",
       "      <td>07-31-2024 03:00</td>\n",
       "      <td>31-07-2024 05:05</td>\n",
       "      <td>Kolkata</td>\n",
       "      <td>312</td>\n",
       "      <td>COUNTERFEITING</td>\n",
       "      <td>78</td>\n",
       "      <td>F</td>\n",
       "      <td>Firearm</td>\n",
       "      <td>Other Crime</td>\n",
       "      <td>12</td>\n",
       "      <td>No</td>\n",
       "      <td>NaN</td>\n",
       "    </tr>\n",
       "    <tr>\n",
       "      <th>40156</th>\n",
       "      <td>40157</td>\n",
       "      <td>31-07-2024 14:00</td>\n",
       "      <td>07-31-2024 04:00</td>\n",
       "      <td>31-07-2024 04:14</td>\n",
       "      <td>Mumbai</td>\n",
       "      <td>300</td>\n",
       "      <td>ILLEGAL POSSESSION</td>\n",
       "      <td>75</td>\n",
       "      <td>F</td>\n",
       "      <td>NaN</td>\n",
       "      <td>Other Crime</td>\n",
       "      <td>2</td>\n",
       "      <td>Yes</td>\n",
       "      <td>29-09-2024 14:00</td>\n",
       "    </tr>\n",
       "    <tr>\n",
       "      <th>40157</th>\n",
       "      <td>40158</td>\n",
       "      <td>02-08-2024 03:00</td>\n",
       "      <td>07-31-2024 05:00</td>\n",
       "      <td>31-07-2024 21:33</td>\n",
       "      <td>Kanpur</td>\n",
       "      <td>423</td>\n",
       "      <td>VEHICLE - STOLEN</td>\n",
       "      <td>68</td>\n",
       "      <td>M</td>\n",
       "      <td>Other</td>\n",
       "      <td>Violent Crime</td>\n",
       "      <td>6</td>\n",
       "      <td>No</td>\n",
       "      <td>NaN</td>\n",
       "    </tr>\n",
       "    <tr>\n",
       "      <th>40158</th>\n",
       "      <td>40159</td>\n",
       "      <td>01-08-2024 19:00</td>\n",
       "      <td>07-31-2024 06:00</td>\n",
       "      <td>31-07-2024 11:05</td>\n",
       "      <td>Patna</td>\n",
       "      <td>311</td>\n",
       "      <td>SEXUAL ASSAULT</td>\n",
       "      <td>11</td>\n",
       "      <td>M</td>\n",
       "      <td>Blunt Object</td>\n",
       "      <td>Violent Crime</td>\n",
       "      <td>1</td>\n",
       "      <td>No</td>\n",
       "      <td>NaN</td>\n",
       "    </tr>\n",
       "    <tr>\n",
       "      <th>40159</th>\n",
       "      <td>40160</td>\n",
       "      <td>31-07-2024 17:00</td>\n",
       "      <td>07-31-2024 07:00</td>\n",
       "      <td>31-07-2024 17:19</td>\n",
       "      <td>Delhi</td>\n",
       "      <td>193</td>\n",
       "      <td>DOMESTIC VIOLENCE</td>\n",
       "      <td>43</td>\n",
       "      <td>F</td>\n",
       "      <td>Poison</td>\n",
       "      <td>Violent Crime</td>\n",
       "      <td>7</td>\n",
       "      <td>Yes</td>\n",
       "      <td>28-09-2024 17:00</td>\n",
       "    </tr>\n",
       "  </tbody>\n",
       "</table>\n",
       "</div>"
      ],
      "text/plain": [
       "       Report Number     Date Reported Date of Occurrence Time of Occurrence  \\\n",
       "40155          40156  01-08-2024 16:00   07-31-2024 03:00   31-07-2024 05:05   \n",
       "40156          40157  31-07-2024 14:00   07-31-2024 04:00   31-07-2024 04:14   \n",
       "40157          40158  02-08-2024 03:00   07-31-2024 05:00   31-07-2024 21:33   \n",
       "40158          40159  01-08-2024 19:00   07-31-2024 06:00   31-07-2024 11:05   \n",
       "40159          40160  31-07-2024 17:00   07-31-2024 07:00   31-07-2024 17:19   \n",
       "\n",
       "          City  Crime Code   Crime Description  Victim Age Victim Gender  \\\n",
       "40155  Kolkata         312      COUNTERFEITING          78             F   \n",
       "40156   Mumbai         300  ILLEGAL POSSESSION          75             F   \n",
       "40157   Kanpur         423    VEHICLE - STOLEN          68             M   \n",
       "40158    Patna         311      SEXUAL ASSAULT          11             M   \n",
       "40159    Delhi         193   DOMESTIC VIOLENCE          43             F   \n",
       "\n",
       "        Weapon Used   Crime Domain  Police Deployed Case Closed  \\\n",
       "40155       Firearm    Other Crime               12          No   \n",
       "40156           NaN    Other Crime                2         Yes   \n",
       "40157         Other  Violent Crime                6          No   \n",
       "40158  Blunt Object  Violent Crime                1          No   \n",
       "40159        Poison  Violent Crime                7         Yes   \n",
       "\n",
       "       Date Case Closed  \n",
       "40155               NaN  \n",
       "40156  29-09-2024 14:00  \n",
       "40157               NaN  \n",
       "40158               NaN  \n",
       "40159  28-09-2024 17:00  "
      ]
     },
     "execution_count": 6,
     "metadata": {},
     "output_type": "execute_result"
    }
   ],
   "source": [
    "df.tail()"
   ]
  },
  {
   "cell_type": "code",
   "execution_count": 7,
   "metadata": {},
   "outputs": [
    {
     "data": {
      "text/plain": [
       "(40160, 14)"
      ]
     },
     "execution_count": 7,
     "metadata": {},
     "output_type": "execute_result"
    }
   ],
   "source": [
    "df.shape"
   ]
  },
  {
   "cell_type": "code",
   "execution_count": 4,
   "metadata": {},
   "outputs": [
    {
     "data": {
      "text/plain": [
       "Report Number             0\n",
       "Date Reported             0\n",
       "Date of Occurrence        0\n",
       "Time of Occurrence        0\n",
       "City                      0\n",
       "Crime Code                0\n",
       "Crime Description         0\n",
       "Victim Age                0\n",
       "Victim Gender             0\n",
       "Weapon Used            5790\n",
       "Crime Domain              0\n",
       "Police Deployed           0\n",
       "Case Closed               0\n",
       "Date Case Closed      20098\n",
       "dtype: int64"
      ]
     },
     "execution_count": 4,
     "metadata": {},
     "output_type": "execute_result"
    }
   ],
   "source": [
    "df.isnull().sum()"
   ]
  },
  {
   "cell_type": "code",
   "execution_count": 6,
   "metadata": {},
   "outputs": [
    {
     "ename": "TypeError",
     "evalue": "NDFrame.fillna() takes from 1 to 2 positional arguments but 3 were given",
     "output_type": "error",
     "traceback": [
      "\u001b[1;31m---------------------------------------------------------------------------\u001b[0m",
      "\u001b[1;31mTypeError\u001b[0m                                 Traceback (most recent call last)",
      "Cell \u001b[1;32mIn[6], line 1\u001b[0m\n\u001b[1;32m----> 1\u001b[0m df[\u001b[38;5;124m'\u001b[39m\u001b[38;5;124mWeapon Used\u001b[39m\u001b[38;5;124m'\u001b[39m]\u001b[38;5;241m.\u001b[39mfillna(df[\u001b[38;5;124m'\u001b[39m\u001b[38;5;124mWeapon Used\u001b[39m\u001b[38;5;124m'\u001b[39m] \u001b[38;5;241m==\u001b[39m \u001b[38;5;241m0\u001b[39m,\u001b[38;5;124m'\u001b[39m\u001b[38;5;124mUnknown\u001b[39m\u001b[38;5;124m'\u001b[39m)\n",
      "\u001b[1;31mTypeError\u001b[0m: NDFrame.fillna() takes from 1 to 2 positional arguments but 3 were given"
     ]
    }
   ],
   "source": [
    "df['Weapon Used'] = df['Weapon Used'].fillna(df['Weapon Used'] == 0,'Unknown')"
   ]
  },
  {
   "cell_type": "code",
   "execution_count": 9,
   "metadata": {},
   "outputs": [
    {
     "data": {
      "text/plain": [
       "<Axes: xlabel='Date Case Closed'>"
      ]
     },
     "execution_count": 9,
     "metadata": {},
     "output_type": "execute_result"
    },
    {
     "data": {
      "image/png": "[encoded data removed]",
      "text/plain": [
       "<Figure size 640x480 with 1 Axes>"
      ]
     },
     "metadata": {},
     "output_type": "display_data"
    }
   ],
   "source": [
    "sns.boxplot(df,x='Date Case Closed')"
   ]
  },
  {
   "cell_type": "code",
   "execution_count": 10,
   "metadata": {},
   "outputs": [
    {
     "data": {
      "text/plain": [
       "<Axes: xlabel='Weapon Used'>"
      ]
     },
     "execution_count": 10,
     "metadata": {},
     "output_type": "execute_result"
    },
    {
     "data": {
      "image/png": "[encoded data removed]",
      "text/plain": [
       "<Figure size 640x480 with 1 Axes>"
      ]
     },
     "metadata": {},
     "output_type": "display_data"
    }
   ],
   "source": [
    "sns.boxplot(df,x='Weapon Used')"
   ]
  },
  {
   "cell_type": "code",
   "execution_count": 19,
   "metadata": {},
   "outputs": [
    {
     "data": {
      "text/plain": [
       "Index(['Report Number', 'Date Reported', 'Date of Occurrence',\n",
       "       'Time of Occurrence', 'City', 'Crime Code', 'Crime Description',\n",
       "       'Victim Age', 'Victim Gender', 'Weapon Used', 'Crime Domain',\n",
       "       'Police Deployed', 'Case Closed', 'Date Case Closed'],\n",
       "      dtype='object')"
      ]
     },
     "execution_count": 19,
     "metadata": {},
     "output_type": "execute_result"
    }
   ],
   "source": [
    "df.columns"
   ]
  },
  {
   "cell_type": "code",
   "execution_count": 28,
   "metadata": {},
   "outputs": [
    {
     "ename": "TypeError",
     "evalue": "'method' object is not subscriptable",
     "output_type": "error",
     "traceback": [
      "\u001b[1;31m---------------------------------------------------------------------------\u001b[0m",
      "\u001b[1;31mTypeError\u001b[0m                                 Traceback (most recent call last)",
      "Cell \u001b[1;32mIn[28], line 2\u001b[0m\n\u001b[0;32m      1\u001b[0m \u001b[38;5;28;01mfor\u001b[39;00m i \u001b[38;5;129;01min\u001b[39;00m df\u001b[38;5;241m.\u001b[39mcolumns:\n\u001b[1;32m----> 2\u001b[0m     \u001b[38;5;28;01mif\u001b[39;00m df\u001b[38;5;241m.\u001b[39many[i]\u001b[38;5;241m==\u001b[39m\u001b[38;5;124m'\u001b[39m\u001b[38;5;124mobject\u001b[39m\u001b[38;5;124m'\u001b[39m:\n\u001b[0;32m      3\u001b[0m         \u001b[38;5;28mprint\u001b[39m(df[i]\u001b[38;5;241m.\u001b[39mvalue_counts())\n",
      "\u001b[1;31mTypeError\u001b[0m: 'method' object is not subscriptable"
     ]
    }
   ],
   "source": [
    "for i in df.columns:\n",
    "    if df.any[i]=='object':\n",
    "        print(df[i].value_counts())\n",
    "    "
   ]
  },
  {
   "cell_type": "code",
   "execution_count": 30,
   "metadata": {},
   "outputs": [
    {
     "data": {
      "text/plain": [
       "Weapon Used\n",
       "Knife           5835\n",
       "Explosives      5751\n",
       "Blunt Object    5737\n",
       "Poison          5728\n",
       "Other           5676\n",
       "Firearm         5643\n",
       "Name: count, dtype: int64"
      ]
     },
     "execution_count": 30,
     "metadata": {},
     "output_type": "execute_result"
    }
   ],
   "source": [
    "df['Weapon Used'].value_counts()"
   ]
  },
  {
   "cell_type": "code",
   "execution_count": 14,
   "metadata": {},
   "outputs": [
    {
     "name": "stdout",
     "output_type": "stream",
     "text": [
      "12"
     ]
    }
   ],
   "source": []
  },
  {
   "cell_type": "code",
   "execution_count": null,
   "metadata": {},
   "outputs": [],
   "source": []
  }
 ],
 "metadata": {
  "kernelspec": {
   "display_name": "base",
   "language": "python",
   "name": "python3"
  },
  "language_info": {
   "codemirror_mode": {
    "name": "ipython",
    "version": 3
   },
   "file_extension": ".py",
   "mimetype": "text/x-python",
   "name": "python",
   "nbconvert_exporter": "python",
   "pygments_lexer": "ipython3",
   "version": "3.12.4"
  }
 },
 "nbformat": 4,
 "nbformat_minor": 2
}
